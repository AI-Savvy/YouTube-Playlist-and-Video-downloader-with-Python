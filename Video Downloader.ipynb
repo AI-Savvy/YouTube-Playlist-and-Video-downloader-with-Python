{
 "cells": [
  {
   "cell_type": "code",
   "execution_count": null,
   "id": "6f4ba644",
   "metadata": {},
   "outputs": [],
   "source": [
    "# !pip3 install pytube"
   ]
  },
  {
   "cell_type": "markdown",
   "id": "20c49ec2",
   "metadata": {},
   "source": [
    "## *Complete Playlist*"
   ]
  },
  {
   "cell_type": "code",
   "execution_count": null,
   "id": "b342f334",
   "metadata": {},
   "outputs": [],
   "source": [
    "from pytube import YouTube\n",
    "from pytube import Playlist\n",
    "\n",
    "url = '<playlist url>'\n",
    "\n",
    "playlist = Playlist(url)\n",
    "directory = str(playlist.title) + '/'\n",
    "\n",
    "count = 1\n",
    "print(f\"Playlist Title: {playlist.title}\")\n",
    "print(f\"Number of videos in playlist: {len(playlist.video_urls)}\\n\")\n",
    "\n",
    "for video in playlist.videos:\n",
    "    print(f'{count}. Downloading: {video.title}')\n",
    "    video.streams.filter(res='720p').first().download(directory)\n",
    "    print(f'Successfully downloaded videos: {count}/{len(playlist.video_urls)}.\\n')\n",
    "    count += 1\n",
    "    if count == len(playlist.video_urls) + 1:\n",
    "        print(\"Playlist download sequence complete...\")"
   ]
  },
  {
   "cell_type": "markdown",
   "id": "edd5fd12",
   "metadata": {},
   "source": [
    "## *One Video at a time*"
   ]
  },
  {
   "cell_type": "code",
   "execution_count": null,
   "id": "41b85312",
   "metadata": {},
   "outputs": [],
   "source": [
    "from pytube import Stream\n",
    "from pytube import YouTube\n",
    "from tqdm import tqdm\n",
    "\n",
    "\n",
    "url = \"<video url>\"\n",
    "\n",
    "def progress_callback(stream: Stream, data_chunk: bytes, bytes_remaining: int) -> None:\n",
    "    pbar.update(len(data_chunk))\n",
    "\n",
    "yt = YouTube(url, on_progress_callback=progress_callback)\n",
    "stream = yt.streams.get_highest_resolution()\n",
    "print(f\"Downloading video to '{stream.default_filename}'\")\n",
    "pbar = tqdm(total=stream.filesize, unit=\"bytes\")\n",
    "path = stream.download()\n",
    "pbar.close()\n",
    "print(f\"Saved video to {path}\")"
   ]
  }
 ],
 "metadata": {
  "kernelspec": {
   "display_name": "Python 3 (ipykernel)",
   "language": "python",
   "name": "python3"
  },
  "language_info": {
   "codemirror_mode": {
    "name": "ipython",
    "version": 3
   },
   "file_extension": ".py",
   "mimetype": "text/x-python",
   "name": "python",
   "nbconvert_exporter": "python",
   "pygments_lexer": "ipython3",
   "version": "3.9.7"
  }
 },
 "nbformat": 4,
 "nbformat_minor": 5
}
